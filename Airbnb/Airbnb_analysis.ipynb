{
 "cells": [
  {
   "cell_type": "markdown",
   "metadata": {},
   "source": [
    "# Detailed walk through the Airbnb Dataset"
   ]
  },
  {
   "cell_type": "code",
   "execution_count": 112,
   "metadata": {
    "collapsed": false
   },
   "outputs": [],
   "source": [
    "# Setup plot environment\n",
    "%matplotlib inline\n",
    "\n",
    "# Imports\n",
    "import numpy as np\n",
    "import pandas as pd\n",
    "pd.options.mode.chained_assignment = None\n",
    "import matplotlib.pyplot as plt\n",
    "import seaborn as sbs\n",
    "from datetime import datetime\n",
    "from airbnb_tools import *\n",
    "\n",
    "from xgboost.sklearn import XGBClassifier\n"
   ]
  },
  {
   "cell_type": "code",
   "execution_count": 122,
   "metadata": {
    "collapsed": false
   },
   "outputs": [],
   "source": [
    "# Read in the training data\n",
    "train = pd.read_csv(\"data/train_users_2.csv\")\n",
    "\n",
    "# For now, we are only interested in data that *has* bookings (there is much to be said\n",
    "# if there isn't a booking, but this project was asked to focus on predictions of where\n",
    "# and not if someone would book.\n",
    "train = train[train[\"country_destination\"] != \"NDF\"]\n",
    "\n",
    "# Start some preliminary cleaning of the data.\n",
    "# Fill in missing data with -1 for now\n",
    "train.fillna(-1, inplace=True)"
   ]
  },
  {
   "cell_type": "code",
   "execution_count": 123,
   "metadata": {
    "collapsed": false
   },
   "outputs": [],
   "source": [
    "# Create some features from others that may be telling\n",
    "def days_between(d1, d2):\n",
    "    d1 = datetime.strptime(d1, \"%Y-%m-%d\")\n",
    "    d2 = datetime.strptime(d2, \"%Y-%m-%d\")\n",
    "    outval = (d2-d1).days\n",
    "    if (outval > 0):\n",
    "        return outval\n",
    "    else:\n",
    "        return 0"
   ]
  },
  {
   "cell_type": "code",
   "execution_count": 124,
   "metadata": {
    "collapsed": false
   },
   "outputs": [],
   "source": [
    "# Where were no bookings made?\n",
    "d1 = train[\"date_account_created\"].values\n",
    "d2 = train[\"date_first_booking\"].values\n",
    "elapsed = []\n",
    "for ii in range(0, len(train)):\n",
    "    elapsed.append(days_between(d1[ii],d2[ii]))\n",
    "    \n",
    "# Add this to the DataFrame\n",
    "train[\"elapsed_booking_time\"] = elapsed"
   ]
  },
  {
   "cell_type": "code",
   "execution_count": 125,
   "metadata": {
    "collapsed": false
   },
   "outputs": [],
   "source": [
    "# What does the timestamp_first_active say?\n",
    "def tfa(x):\n",
    "        \n",
    "    output = []\n",
    "    x = str(x)\n",
    "    output.append(x[:4])\n",
    "    output.append(x[4:6])\n",
    "    output.append(x[6:8])\n",
    "    output.append(x[8:10])\n",
    "    output.append(x[10:12])\n",
    "    output.append(x[12:14])\n",
    "    \n",
    "    return output\n",
    "\n"
   ]
  },
  {
   "cell_type": "code",
   "execution_count": 127,
   "metadata": {
    "collapsed": false
   },
   "outputs": [],
   "source": [
    "# Split the initial Time Stamp into useful bits. The creation delay is the time between\n",
    "# Their first search (which could be first) to when they created their account.\n",
    "tfa_year = []\n",
    "tfa_month = []\n",
    "tfa_day = []\n",
    "creation_delay = []\n",
    "tfa_vector = train[\"timestamp_first_active\"].values\n",
    "for ii in range(0, len(train)):\n",
    "    tfa_out = tfa(tfa_vector[ii])\n",
    "    tfa_year.append(tfa_out[0])\n",
    "    tfa_month.append(tfa_out[1])\n",
    "    tfa_day.append(tfa_out[2])\n",
    "    d2_string = str(tfa_out[0]) + '-' + str(tfa_out[1]) + '-' + str(tfa_out[2])\n",
    "    creation_delay.append(days_between(d2_string, d1[ii]))\n",
    "    \n",
    "#train[\"tfa_year\"] = tfa_year\n",
    "#train[\"tfa_month\"] = tfa_month\n",
    "#train[\"tfa_day\"] = tfa_day\n",
    "train[\"creation_delay\"] = creation_delay\n",
    "train.drop([\"timestamp_first_active\", \"date_account_created\", \n",
    "            \"date_first_booking\"], axis=1, inplace=True)"
   ]
  },
  {
   "cell_type": "code",
   "execution_count": 128,
   "metadata": {
    "collapsed": false
   },
   "outputs": [],
   "source": [
    "# Clean up Age a bit.  Assume anything with age < 18 and age > 100 are fubar and set to -1\n",
    "train['age'][(train['age'] < 15) | (train['age'] > 100)] = -1\n",
    "\n",
    "# ID is likely not super informative, so let's drop it\n",
    "train.drop(['id'], inplace=True, axis=1)"
   ]
  },
  {
   "cell_type": "code",
   "execution_count": 129,
   "metadata": {
    "collapsed": false
   },
   "outputs": [],
   "source": [
    "# What Categorical Variables are we interested in?\n",
    "categorical_variables = ['gender', 'language', 'signup_method',  'signup_flow', \n",
    "                         'affiliate_channel', 'affiliate_provider', \n",
    "                         'first_affiliate_tracked', 'signup_app', \n",
    "                         'first_device_type', 'first_browser']\n",
    "X = split_categorical_variables(train, categorical_variables)"
   ]
  },
  {
   "cell_type": "code",
   "execution_count": 130,
   "metadata": {
    "collapsed": false
   },
   "outputs": [
    {
     "data": {
      "text/html": [
       "<div>\n",
       "<table border=\"1\" class=\"dataframe\">\n",
       "  <thead>\n",
       "    <tr style=\"text-align: right;\">\n",
       "      <th></th>\n",
       "      <th>age</th>\n",
       "      <th>country_destination</th>\n",
       "      <th>elapsed_booking_time</th>\n",
       "      <th>creation_delay</th>\n",
       "      <th>gender_-unknown-</th>\n",
       "      <th>gender_FEMALE</th>\n",
       "      <th>gender_MALE</th>\n",
       "      <th>gender_OTHER</th>\n",
       "      <th>language_ca</th>\n",
       "      <th>language_cs</th>\n",
       "      <th>...</th>\n",
       "      <th>first_browser_SeaMonkey</th>\n",
       "      <th>first_browser_Silk</th>\n",
       "      <th>first_browser_SiteKiosk</th>\n",
       "      <th>first_browser_SlimBrowser</th>\n",
       "      <th>first_browser_Sogou Explorer</th>\n",
       "      <th>first_browser_Stainless</th>\n",
       "      <th>first_browser_TenFourFox</th>\n",
       "      <th>first_browser_TheWorld Browser</th>\n",
       "      <th>first_browser_Yandex.Browser</th>\n",
       "      <th>first_browser_wOSBrowser</th>\n",
       "    </tr>\n",
       "  </thead>\n",
       "  <tbody>\n",
       "    <tr>\n",
       "      <th>2</th>\n",
       "      <td>56</td>\n",
       "      <td>US</td>\n",
       "      <td>0</td>\n",
       "      <td>476</td>\n",
       "      <td>0</td>\n",
       "      <td>1</td>\n",
       "      <td>0</td>\n",
       "      <td>0</td>\n",
       "      <td>0</td>\n",
       "      <td>0</td>\n",
       "      <td>...</td>\n",
       "      <td>0</td>\n",
       "      <td>0</td>\n",
       "      <td>0</td>\n",
       "      <td>0</td>\n",
       "      <td>0</td>\n",
       "      <td>0</td>\n",
       "      <td>0</td>\n",
       "      <td>0</td>\n",
       "      <td>0</td>\n",
       "      <td>0</td>\n",
       "    </tr>\n",
       "    <tr>\n",
       "      <th>3</th>\n",
       "      <td>42</td>\n",
       "      <td>other</td>\n",
       "      <td>278</td>\n",
       "      <td>765</td>\n",
       "      <td>0</td>\n",
       "      <td>1</td>\n",
       "      <td>0</td>\n",
       "      <td>0</td>\n",
       "      <td>0</td>\n",
       "      <td>0</td>\n",
       "      <td>...</td>\n",
       "      <td>0</td>\n",
       "      <td>0</td>\n",
       "      <td>0</td>\n",
       "      <td>0</td>\n",
       "      <td>0</td>\n",
       "      <td>0</td>\n",
       "      <td>0</td>\n",
       "      <td>0</td>\n",
       "      <td>0</td>\n",
       "      <td>0</td>\n",
       "    </tr>\n",
       "    <tr>\n",
       "      <th>4</th>\n",
       "      <td>41</td>\n",
       "      <td>US</td>\n",
       "      <td>0</td>\n",
       "      <td>280</td>\n",
       "      <td>1</td>\n",
       "      <td>0</td>\n",
       "      <td>0</td>\n",
       "      <td>0</td>\n",
       "      <td>0</td>\n",
       "      <td>0</td>\n",
       "      <td>...</td>\n",
       "      <td>0</td>\n",
       "      <td>0</td>\n",
       "      <td>0</td>\n",
       "      <td>0</td>\n",
       "      <td>0</td>\n",
       "      <td>0</td>\n",
       "      <td>0</td>\n",
       "      <td>0</td>\n",
       "      <td>0</td>\n",
       "      <td>0</td>\n",
       "    </tr>\n",
       "    <tr>\n",
       "      <th>5</th>\n",
       "      <td>-1</td>\n",
       "      <td>US</td>\n",
       "      <td>1</td>\n",
       "      <td>0</td>\n",
       "      <td>1</td>\n",
       "      <td>0</td>\n",
       "      <td>0</td>\n",
       "      <td>0</td>\n",
       "      <td>0</td>\n",
       "      <td>0</td>\n",
       "      <td>...</td>\n",
       "      <td>0</td>\n",
       "      <td>0</td>\n",
       "      <td>0</td>\n",
       "      <td>0</td>\n",
       "      <td>0</td>\n",
       "      <td>0</td>\n",
       "      <td>0</td>\n",
       "      <td>0</td>\n",
       "      <td>0</td>\n",
       "      <td>0</td>\n",
       "    </tr>\n",
       "    <tr>\n",
       "      <th>6</th>\n",
       "      <td>46</td>\n",
       "      <td>US</td>\n",
       "      <td>3</td>\n",
       "      <td>0</td>\n",
       "      <td>0</td>\n",
       "      <td>1</td>\n",
       "      <td>0</td>\n",
       "      <td>0</td>\n",
       "      <td>0</td>\n",
       "      <td>0</td>\n",
       "      <td>...</td>\n",
       "      <td>0</td>\n",
       "      <td>0</td>\n",
       "      <td>0</td>\n",
       "      <td>0</td>\n",
       "      <td>0</td>\n",
       "      <td>0</td>\n",
       "      <td>0</td>\n",
       "      <td>0</td>\n",
       "      <td>0</td>\n",
       "      <td>0</td>\n",
       "    </tr>\n",
       "  </tbody>\n",
       "</table>\n",
       "<p>5 rows × 136 columns</p>\n",
       "</div>"
      ],
      "text/plain": [
       "   age country_destination  elapsed_booking_time  creation_delay  \\\n",
       "2   56                  US                     0             476   \n",
       "3   42               other                   278             765   \n",
       "4   41                  US                     0             280   \n",
       "5   -1                  US                     1               0   \n",
       "6   46                  US                     3               0   \n",
       "\n",
       "   gender_-unknown-  gender_FEMALE  gender_MALE  gender_OTHER  language_ca  \\\n",
       "2                 0              1            0             0            0   \n",
       "3                 0              1            0             0            0   \n",
       "4                 1              0            0             0            0   \n",
       "5                 1              0            0             0            0   \n",
       "6                 0              1            0             0            0   \n",
       "\n",
       "   language_cs            ...             first_browser_SeaMonkey  \\\n",
       "2            0            ...                                   0   \n",
       "3            0            ...                                   0   \n",
       "4            0            ...                                   0   \n",
       "5            0            ...                                   0   \n",
       "6            0            ...                                   0   \n",
       "\n",
       "   first_browser_Silk  first_browser_SiteKiosk  first_browser_SlimBrowser  \\\n",
       "2                   0                        0                          0   \n",
       "3                   0                        0                          0   \n",
       "4                   0                        0                          0   \n",
       "5                   0                        0                          0   \n",
       "6                   0                        0                          0   \n",
       "\n",
       "   first_browser_Sogou Explorer  first_browser_Stainless  \\\n",
       "2                             0                        0   \n",
       "3                             0                        0   \n",
       "4                             0                        0   \n",
       "5                             0                        0   \n",
       "6                             0                        0   \n",
       "\n",
       "   first_browser_TenFourFox  first_browser_TheWorld Browser  \\\n",
       "2                         0                               0   \n",
       "3                         0                               0   \n",
       "4                         0                               0   \n",
       "5                         0                               0   \n",
       "6                         0                               0   \n",
       "\n",
       "   first_browser_Yandex.Browser  first_browser_wOSBrowser  \n",
       "2                             0                         0  \n",
       "3                             0                         0  \n",
       "4                             0                         0  \n",
       "5                             0                         0  \n",
       "6                             0                         0  \n",
       "\n",
       "[5 rows x 136 columns]"
      ]
     },
     "execution_count": 130,
     "metadata": {},
     "output_type": "execute_result"
    }
   ],
   "source": [
    "X.head()"
   ]
  },
  {
   "cell_type": "raw",
   "metadata": {},
   "source": []
  },
  {
   "cell_type": "raw",
   "metadata": {
    "collapsed": true
   },
   "source": [
    "train.columns"
   ]
  },
  {
   "cell_type": "code",
   "execution_count": null,
   "metadata": {
    "collapsed": false
   },
   "outputs": [],
   "source": []
  },
  {
   "cell_type": "code",
   "execution_count": null,
   "metadata": {
    "collapsed": false
   },
   "outputs": [],
   "source": []
  },
  {
   "cell_type": "code",
   "execution_count": null,
   "metadata": {
    "collapsed": false
   },
   "outputs": [],
   "source": []
  },
  {
   "cell_type": "code",
   "execution_count": null,
   "metadata": {
    "collapsed": true
   },
   "outputs": [],
   "source": []
  }
 ],
 "metadata": {
  "kernelspec": {
   "display_name": "Python 3",
   "language": "python",
   "name": "python3"
  },
  "language_info": {
   "codemirror_mode": {
    "name": "ipython",
    "version": 3
   },
   "file_extension": ".py",
   "mimetype": "text/x-python",
   "name": "python",
   "nbconvert_exporter": "python",
   "pygments_lexer": "ipython3",
   "version": "3.5.1"
  }
 },
 "nbformat": 4,
 "nbformat_minor": 0
}
