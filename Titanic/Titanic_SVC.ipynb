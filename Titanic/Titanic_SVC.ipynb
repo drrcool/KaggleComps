{
 "cells": [
  {
   "cell_type": "code",
   "execution_count": 36,
   "metadata": {
    "collapsed": true
   },
   "outputs": [],
   "source": [
    "# Imports\n",
    "import pandas as pd\n",
    "from pandas import Series, DataFrame\n",
    "\n",
    "import numpy as np\n",
    "import matplotlib.pyplot as plt\n",
    "\n",
    "import RandomForestTools\n",
    "\n",
    "%matplotlib inline"
   ]
  },
  {
   "cell_type": "code",
   "execution_count": 8,
   "metadata": {
    "collapsed": true
   },
   "outputs": [],
   "source": [
    "# Get the data\n",
    "train_df = pd.read_csv(\"data/train.csv\", dtype={\"Age\": np.float64}, )\n",
    "test_df = pd.read_csv(\"data/test.csv\", dtype={\"Age\": np.float64}, )"
   ]
  },
  {
   "cell_type": "code",
   "execution_count": 14,
   "metadata": {
    "collapsed": false
   },
   "outputs": [],
   "source": [
    "# We know the embarked keyword only has a few entries, so let's go ahead and split that.\n",
    "test_df = test_df.join(pd.get_dummies(test_df.Embarked, prefix=\"Embarked\"))\n",
    "train_df = train_df.join(pd.get_dummies(train_df.Embarked, prefix=\"Embarked\"))\n",
    "\n",
    "# Also split sex now\n",
    "test_df = test_df.join(pd.get_dummies(test_df.Sex, prefix=\"Sex\"))\n",
    "train_df = train_df.join(pd.get_dummies(train_df.Sex, prefix=\"Sex\"))"
   ]
  },
  {
   "cell_type": "code",
   "execution_count": 15,
   "metadata": {
    "collapsed": false
   },
   "outputs": [],
   "source": [
    "# Drop the duplicate data and columns we don't care about\n",
    "test_df.drop([\"Embarked\", \"Sex\",'Sex_female', 'Name','Ticket',\"Cabin\"], axis=1, inplace=True)\n",
    "train_df.drop([\"Embarked\", \"Sex\",'Sex_female', 'Name','Ticket',\"Cabin\"], axis=1, inplace=True)"
   ]
  },
  {
   "cell_type": "code",
   "execution_count": 19,
   "metadata": {
    "collapsed": false
   },
   "outputs": [],
   "source": [
    "# We need to fill in Age data. I'm going with setting missing ages to a very negative number so it's clear they \n",
    "# are fubar (maybe that's important)\n",
    "train_df[\"Age\"].fillna(-100, inplace=True)\n",
    "test_df[\"Age\"].fillna(-100, inplace=True)\n",
    "\n",
    "median_fare = train_df['Fare'].median(axis=0)\n",
    "train_df[\"Fare\"].fillna(median_fare, inplace=True)\n",
    "test_df[\"Fare\"].fillna(median_fare, inplace=True)"
   ]
  },
  {
   "cell_type": "code",
   "execution_count": 52,
   "metadata": {
    "collapsed": true
   },
   "outputs": [],
   "source": [
    "# Restrict to what we care about\n",
    "y_train = train_df[\"Survived\"]\n",
    "X_train = train_df[[\"Pclass\", \"Age\",\"SibSp\", \"Parch\", \"Fare\",\"Embarked_C\",\"Embarked_S\",\"Embarked_Q\",\"Sex_male\"]]\n",
    "X_test =  test_df[[\"Pclass\", \"Age\",\"SibSp\", \"Parch\", \"Fare\",\"Embarked_C\",\"Embarked_S\",\"Embarked_Q\",\"Sex_male\"]]"
   ]
  },
  {
   "cell_type": "code",
   "execution_count": 53,
   "metadata": {
    "collapsed": false
   },
   "outputs": [],
   "source": [
    "# We need to normalize our features\n",
    "from sklearn.preprocessing import StandardScaler\n",
    "sc = StandardScaler()\n",
    "\n",
    "X_test_scaled = pd.DataFrame(sc.fit_transform(X_test))\n",
    "X_train_scaled = pd.DataFrame(sc.fit_transform(X_train))\n",
    "X_test_scaled.columns = X_test.columns\n",
    "X_train_scaled.columns = X_train.columns"
   ]
  },
  {
   "cell_type": "code",
   "execution_count": 54,
   "metadata": {
    "collapsed": false
   },
   "outputs": [
    {
     "data": {
      "text/plain": [
       "RandomForestClassifier(bootstrap=True, class_weight=None, criterion='gini',\n",
       "            max_depth=None, max_features='auto', max_leaf_nodes=None,\n",
       "            min_samples_leaf=1, min_samples_split=2,\n",
       "            min_weight_fraction_leaf=0.0, n_estimators=1000, n_jobs=-1,\n",
       "            oob_score=False, random_state=69, verbose=0, warm_start=False)"
      ]
     },
     "execution_count": 54,
     "metadata": {},
     "output_type": "execute_result"
    }
   ],
   "source": [
    "# Do a quick Random Forest Classifier to see what features seem to be most important\n",
    "from sklearn.ensemble import RandomForestClassifier\n",
    "feat_labels = X_train_scaled.columns\n",
    "forest = RandomForestClassifier(n_estimators=1000, random_state=69, n_jobs=-1)\n",
    "forest.fit(X_train_scaled, y_train)"
   ]
  },
  {
   "cell_type": "code",
   "execution_count": 55,
   "metadata": {
    "collapsed": false
   },
   "outputs": [
    {
     "data": {
      "image/png": "[encoded data removed]",
      "text/plain": [
       "<matplotlib.figure.Figure at 0x1104a72b0>"
      ]
     },
     "metadata": {},
     "output_type": "display_data"
    }
   ],
   "source": [
    "RandomForestTools.graph_feature_importances(forest, X_train.columns, summarized_columns=[\"Embarked\", \"Sex\"])"
   ]
  },
  {
   "cell_type": "markdown",
   "metadata": {},
   "source": [
    "From this, just like with random forrest regression (odd, right?) we find that the most important factors are Fare, Sex, Age, and Pclass."
   ]
  },
  {
   "cell_type": "code",
   "execution_count": 56,
   "metadata": {
    "collapsed": false
   },
   "outputs": [
    {
     "name": "stderr",
     "output_type": "stream",
     "text": [
      "/Users/rcool/soft/miniconda3/lib/python3.5/site-packages/sklearn/utils/__init__.py:93: DeprecationWarning: Function transform is deprecated; Support to use estimators as feature selectors will be removed in version 0.19. Use SelectFromModel instead.\n",
      "  warnings.warn(msg, category=DeprecationWarning)\n",
      "/Users/rcool/soft/miniconda3/lib/python3.5/site-packages/sklearn/utils/__init__.py:93: DeprecationWarning: Function transform is deprecated; Support to use estimators as feature selectors will be removed in version 0.19. Use SelectFromModel instead.\n",
      "  warnings.warn(msg, category=DeprecationWarning)\n"
     ]
    }
   ],
   "source": [
    "X_train_trimmed = forest.transform(X_train_scaled, threshold=0.05)\n",
    "X_test_trimmed = forest.transform(X_test_scaled, threshold=0.05)"
   ]
  },
  {
   "cell_type": "code",
   "execution_count": 58,
   "metadata": {
    "collapsed": true
   },
   "outputs": [],
   "source": [
    "# Proceed to some SVC fitting\n",
    "from sklearn.svm import SVC\n",
    "svm = SVC(kernel='rbf', C=100.0, gamma=0.1, random_state=69)"
   ]
  },
  {
   "cell_type": "code",
   "execution_count": 80,
   "metadata": {
    "collapsed": false
   },
   "outputs": [],
   "source": [
    "# Determine optimal training data set size (n_estimator)\n",
    "from sklearn.learning_curve import learning_curve\n",
    "train_sizes, train_scores, test_scores = learning_curve(estimator=svm, X=X_train_trimmed, y=y_train, \n",
    "                                                       train_sizes=np.linspace(0.1, 1.0, 25), cv=10, n_jobs=-1)\n",
    "train_mean = np.mean(train_scores, axis=1)\n",
    "train_std = np.std(train_scores, axis=1)\n",
    "test_mean = np.mean(test_scores, axis=1)\n",
    "test_std = np.std(test_scores, axis=1)"
   ]
  },
  {
   "cell_type": "code",
   "execution_count": 79,
   "metadata": {
    "collapsed": false
   },
   "outputs": [
    {
     "data": {
      "image/png": "[encoded data removed]",
      "text/plain": [
       "<matplotlib.figure.Figure at 0x11b2cf550>"
      ]
     },
     "metadata": {},
     "output_type": "display_data"
    }
   ],
   "source": [
    "plt.plot(train_sizes, train_mean, color='blue', marker='*', markersize=5, label='training accuracy')\n",
    "plt.fill_between(train_sizes, train_mean+train_std, train_mean-train_std, alpha=0.15, color='blue')\n",
    "plt.plot(train_sizes, test_mean, color='red', marker='o', markersize=5, label='validation accuracy')\n",
    "plt.fill_between(train_sizes, test_mean-test_std, test_mean+test_std, alpha=0.14, color='red')\n",
    "plt.grid()\n",
    "plt.xlabel(\"Number of Training Samples\")\n",
    "plt.ylabel(\"Accuracy\")\n",
    "plt.legend(loc=\"lower right\")\n",
    "plt.ylim(0.7, 0.9)\n",
    "plt.show()"
   ]
  },
  {
   "cell_type": "code",
   "execution_count": 82,
   "metadata": {
    "collapsed": false
   },
   "outputs": [],
   "source": [
    "# Now, let's look at the C parameter. The C paramter is the regularlization parameter.\n",
    "from sklearn.learning_curve import validation_curve\n",
    "\n",
    "param_range = [0.001, 0.01, 0.1, 1.0, 10.0, 100.0]  # values of C\n",
    "train_scores, test_scores = validation_curve(estimator=svm, X=X_train_trimmed, y=y_train, \n",
    "                                            param_name='C', param_range = param_range, cv=10)\n"
   ]
  },
  {
   "cell_type": "code",
   "execution_count": 87,
   "metadata": {
    "collapsed": false
   },
   "outputs": [
    {
     "data": {
      "text/plain": [
       "<matplotlib.legend.Legend at 0x11b7b4c18>"
      ]
     },
     "execution_count": 87,
     "metadata": {},
     "output_type": "execute_result"
    },
    {
     "data": {
      "image/png": "[encoded data removed]",
      "text/plain": [
       "<matplotlib.figure.Figure at 0x11c26ac50>"
      ]
     },
     "metadata": {},
     "output_type": "display_data"
    }
   ],
   "source": [
    "# calculate some stats\n",
    "train_mean = np.mean(train_scores, axis=1)\n",
    "test_mean = np.mean(test_scores, axis=1)\n",
    "test_std = np.std(test_scores, axis=1)\n",
    "train_std = np.std(train_scores, axis=1)\n",
    "\n",
    "plt.plot(param_range, train_mean, marker='*', markersize=5, color='blue',label='training accuracy')\n",
    "plt.fill_between(param_range, train_mean-train_std, train_mean+train_std, alpha=0.15, color='blue')\n",
    "plt.plot(param_range, test_mean, marker='o', markersize=5, color='purple', label='validation accuracy')\n",
    "plt.fill_between(param_range, test_mean-test_std, test_mean+test_std, alpha=0.15, color='purple')\n",
    "plt.ylim(0.7, 0.85)\n",
    "plt.xscale('log')\n",
    "plt.grid()\n",
    "plt.xlabel(\"C Parameter\")\n",
    "plt.ylabel(\"Accuracy\")\n",
    "plt.legend(loc='lower right')"
   ]
  },
  {
   "cell_type": "code",
   "execution_count": 89,
   "metadata": {
    "collapsed": false
   },
   "outputs": [
    {
     "name": "stdout",
     "output_type": "stream",
     "text": [
      "0.82379349046\n"
     ]
    }
   ],
   "source": [
    "# Use these values to derive the best parameters for the fit\n",
    "from sklearn.grid_search import GridSearchCV\n",
    "param_grid = [{'C':param_range, \n",
    "               'kernel': ['linear']},\n",
    "              {'C' : param_range, \n",
    "              'gamma': param_range,\n",
    "              'kernel' : ['rbf']}]\n",
    "gs = GridSearchCV(estimator=svm, \n",
    "                 param_grid=param_grid, \n",
    "                 scoring='accuracy', \n",
    "                 cv=10, n_jobs=-1)\n",
    "gs = gs.fit(X_train_trimmed, y_train)\n",
    "print(gs.best_score_)"
   ]
  },
  {
   "cell_type": "code",
   "execution_count": 90,
   "metadata": {
    "collapsed": false
   },
   "outputs": [
    {
     "name": "stdout",
     "output_type": "stream",
     "text": [
      "{'kernel': 'rbf', 'gamma': 10.0, 'C': 1.0}\n"
     ]
    }
   ],
   "source": [
    "# Let's see what those parameters are:\n",
    "print(gs.best_params_)"
   ]
  },
  {
   "cell_type": "code",
   "execution_count": 91,
   "metadata": {
    "collapsed": true
   },
   "outputs": [],
   "source": [
    "# Let's do some mock testing with the training set\n",
    "from sklearn.cross_validation import train_test_split\n",
    "X_tr, X_te, y_tr, y_te = train_test_split(X_train_trimmed, y_train, test_size=0.25, random_state=69)"
   ]
  },
  {
   "cell_type": "code",
   "execution_count": 97,
   "metadata": {
    "collapsed": false
   },
   "outputs": [
    {
     "name": "stdout",
     "output_type": "stream",
     "text": [
      "Missclassified Samples 41 of 223\n",
      "Accuracy: 0.82\n"
     ]
    }
   ],
   "source": [
    "# Run on our subsample\n",
    "svm = SVC(kernel='rbf', C=1.0, gamma=10.0, random_state=69)\n",
    "svm.fit(X_tr, y_tr)\n",
    "\n",
    "# Run predictions on our fake subsample\n",
    "y_pred = svm.predict(X_te)\n",
    "no_samples = len(y_te)\n",
    "print(\"Missclassified Samples %d of %d\" %\n",
    "      ((y_te != y_pred).sum(), no_samples))\n",
    "\n",
    "from sklearn.metrics import accuracy_score\n",
    "print(\"Accuracy: %.2f\" % accuracy_score(y_te, y_pred))"
   ]
  },
  {
   "cell_type": "code",
   "execution_count": 103,
   "metadata": {
    "collapsed": false
   },
   "outputs": [
    {
     "data": {
      "text/plain": [
       "<matplotlib.text.Text at 0x11d0d86a0>"
      ]
     },
     "execution_count": 103,
     "metadata": {},
     "output_type": "execute_result"
    },
    {
     "data": {
      "image/png": "[encoded data removed]",
      "text/plain": [
       "<matplotlib.figure.Figure at 0x11c464be0>"
      ]
     },
     "metadata": {},
     "output_type": "display_data"
    }
   ],
   "source": [
    "# Let's see the classification matrix\n",
    "from sklearn.metrics import confusion_matrix\n",
    "confmat = confusion_matrix(y_true=y_te, y_pred=y_pred)\n",
    "\n",
    "fig, ax = plt.subplots(figsize=(3,3))\n",
    "ax.matshow(confmat, cmap=plt.cm.Blues, alpha=0.3)\n",
    "for i in range(confmat.shape[0]):\n",
    "    for j in range(confmat.shape[1]):\n",
    "        ax.text(x=j, y=i, \n",
    "               s=confmat[i,j], \n",
    "                va='center', ha='center')\n",
    "plt.xlabel('predicted label')\n",
    "plt.ylabel('true label')"
   ]
  },
  {
   "cell_type": "code",
   "execution_count": 106,
   "metadata": {
    "collapsed": false
   },
   "outputs": [
    {
     "data": {
      "text/plain": [
       "161"
      ]
     },
     "execution_count": 106,
     "metadata": {},
     "output_type": "execute_result"
    }
   ],
   "source": [
    "# final model\n",
    "svm = SVC(kernel='rbf', C=1.0, gamma=10, random_state=69)\n",
    "svm.fit(X_train_trimmed, y_train)\n",
    "\n",
    "y_pred = svm.predict(X_test_trimmed)"
   ]
  },
  {
   "cell_type": "code",
   "execution_count": 108,
   "metadata": {
    "collapsed": true
   },
   "outputs": [],
   "source": [
    "output = test_df.PassengerId\n",
    "output = pd.DataFrame(output)\n",
    "predict = pd.DataFrame(y_pred)\n",
    "output = output.join(predict)\n",
    "output.columns = [\"PassengerId\", \"Survived\"]"
   ]
  },
  {
   "cell_type": "code",
   "execution_count": 109,
   "metadata": {
    "collapsed": true
   },
   "outputs": [],
   "source": [
    "output.to_csv(\"SVC_output.csv\", index=False)"
   ]
  },
  {
   "cell_type": "markdown",
   "metadata": {},
   "source": [
    "This wasn't an improvement over my last submission (Random Forest regression)"
   ]
  },
  {
   "cell_type": "code",
   "execution_count": null,
   "metadata": {
    "collapsed": true
   },
   "outputs": [],
   "source": []
  }
 ],
 "metadata": {
  "kernelspec": {
   "display_name": "Python 3",
   "language": "python",
   "name": "python3"
  },
  "language_info": {
   "codemirror_mode": {
    "name": "ipython",
    "version": 3
   },
   "file_extension": ".py",
   "mimetype": "text/x-python",
   "name": "python",
   "nbconvert_exporter": "python",
   "pygments_lexer": "ipython3",
   "version": "3.5.1"
  }
 },
 "nbformat": 4,
 "nbformat_minor": 0
}
